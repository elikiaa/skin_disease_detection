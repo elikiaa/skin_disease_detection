{
 "cells": [
  {
   "cell_type": "markdown",
   "metadata": {},
   "source": [
    "# Detect skin diseases on dark skin with the help of Artificial Intelligence "
   ]
  },
  {
   "cell_type": "markdown",
   "metadata": {},
   "source": [
    "## Scientific papers:\n",
    "- https://www.thelancet.com/journals/landig/article/PIIS2589-7500(21)00252-1/fulltext [M]\n",
    "- https://jamanetwork.com/journals/jamadermatology/article-abstract/2784295 [M]\n",
    "- https://www.sciencedirect.com/science/article/pii/S1877050919321295 [SoA]\n",
    "- https://link.springer.com/article/10.1007/s11042-021-11823-x [SoA]\n",
    "- https://www.mdpi.com/2075-1729/12/3/426/htm [SoA]\n",
    "- https://www.science.org/doi/10.1126/sciadv.abq6147 [SoA] \n",
    "-\n",
    "\n",
    "## Other sources:\n",
    "- https://www.aad.org/public/darker-skin/diseases [D]\n",
    "- https://www.medicalnewstoday.com/articles/black-skin-discoloration#summary  [D]\n",
    "- https://www.blackandbrownskin.co.uk/mindthegap [D]\n",
    "- https://pharmaceutical-journal.com/article/ld/recognising-common-skin-conditions-in-people-of-colour [D]\n",
    "\n",
    "\n",
    "## Non-scientific sources:\n",
    "- https://www.theatlantic.com/health/archive/2018/08/machine-learning-dermatology-skin-color/567619/ [M]\n",
    "- https://www.everydayhealth.com/black-health/too-many-doctors-are-misdiagnosing-disease-on-skin-of-color/ [M]\n",
    "- https://www.theverge.com/2021/11/9/22770852/data-dermatology-algorithms-skin-tone-ethnicity [M]\n",
    "- https://www.ncri.org.uk/ai-to-spot-skin-cancer-lacking-pictures-of-darker-skin/ [M]\n",
    "\n",
    "\n",
    "[M]   : Motivation\n",
    "[D]   : List of Diseases\n",
    "[SoA] : State of the Art "
   ]
  },
  {
   "cell_type": "code",
   "execution_count": null,
   "metadata": {},
   "outputs": [],
   "source": []
  }
 ],
 "metadata": {
  "kernelspec": {
   "display_name": "Python 3",
   "language": "python",
   "name": "python3"
  },
  "language_info": {
   "codemirror_mode": {
    "name": "ipython",
    "version": 3
   },
   "file_extension": ".py",
   "mimetype": "text/x-python",
   "name": "python",
   "nbconvert_exporter": "python",
   "pygments_lexer": "ipython3",
   "version": "3.7.1"
  }
 },
 "nbformat": 4,
 "nbformat_minor": 4
}
